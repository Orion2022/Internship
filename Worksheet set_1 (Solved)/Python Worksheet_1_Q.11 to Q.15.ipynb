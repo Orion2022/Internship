{
 "cells": [
  {
   "cell_type": "markdown",
   "metadata": {},
   "source": [
    "# 11. Write a python program to find the factorial of a number."
   ]
  },
  {
   "cell_type": "code",
   "execution_count": 15,
   "metadata": {},
   "outputs": [
    {
     "name": "stdout",
     "output_type": "stream",
     "text": [
      "Enter the number to find out the factorial : 5\n",
      "The factorial of 5 is 120\n"
     ]
    }
   ],
   "source": [
    "# Program\n",
    "\n",
    "num = int(input(\"Enter the number to find out the factorial : \"))    #input from user \n",
    "\n",
    "factorial = 1           #declare a variable\n",
    "\n",
    "if num < 0:             # elif condition\n",
    "   print(\" Factorial does not exist for negative numbers\")    \n",
    "elif num == 0:    \n",
    "   print(\"The factorial of 0 is 1\")    \n",
    "else:           \n",
    "   for i in range(1,num + 1):                      #for loop\n",
    "       factorial = factorial*i                     #factorial formula\n",
    "   print(\"The factorial of\",num,\"is\",factorial)    #print final value  "
   ]
  },
  {
   "cell_type": "markdown",
   "metadata": {},
   "source": [
    "# 12. Write a python program to find whether a number is prime or composite."
   ]
  },
  {
   "cell_type": "code",
   "execution_count": 14,
   "metadata": {},
   "outputs": [
    {
     "name": "stdout",
     "output_type": "stream",
     "text": [
      "Enter a Number to check for Prime Number: 13\n",
      "13 is a PRIME number\n"
     ]
    }
   ],
   "source": [
    "#Program: \n",
    "\n",
    "number = int(input(\"Enter a Number to check for Prime Number: \"))  # input from user\n",
    "\n",
    "\n",
    "if number > 1:               #if statement\n",
    "    for i in range(2, number):  #for loop\n",
    "        if (number % i) == 0:\n",
    "            print(number, \"is NOT a prime number\")\n",
    "            break\n",
    "    else:                                    #else statement\n",
    "        print(number, \"is a PRIME number\")\n",
    "\n",
    "elif num == 0 or 1:                          #elif statement\n",
    "    print(number, \"is a neither prime NOR composite number\")\n",
    "\n",
    "else:\n",
    "    print(number, \"is NOT a prime number it is a COMPOSITE number\")"
   ]
  },
  {
   "cell_type": "markdown",
   "metadata": {},
   "source": [
    "# 13. Write a python program to check whether a given string is palindrome or not."
   ]
  },
  {
   "cell_type": "code",
   "execution_count": 16,
   "metadata": {},
   "outputs": [
    {
     "name": "stdout",
     "output_type": "stream",
     "text": [
      "Enter the string to check for palindrome or not : RACECAR\n",
      "Yes, The String is Palindrome\n"
     ]
    }
   ],
   "source": [
    "#Program:\n",
    "\n",
    "def checkPalindrome(s):\n",
    "     \n",
    "    rev = ''.join(reversed(s))\n",
    " \n",
    "    \n",
    "    if (s == rev):\n",
    "        return True\n",
    "    return False\n",
    "\n",
    "\n",
    "# main function\n",
    "\n",
    "s = str(input(\"Enter the string to check for palindrome or not : \"))\n",
    "ans = checkPalindrome(s)\n",
    " \n",
    "if (ans):\n",
    "    print(\"Yes, The String is Palindrome\")\n",
    "else:\n",
    "    print(\"No, The String is not Palindrome\")"
   ]
  },
  {
   "cell_type": "markdown",
   "metadata": {},
   "source": [
    "# 14. Write a Python program to get the third side of right-angled triangle from two given sides."
   ]
  },
  {
   "cell_type": "code",
   "execution_count": 17,
   "metadata": {},
   "outputs": [
    {
     "name": "stdout",
     "output_type": "stream",
     "text": [
      "Hypotenuse = 5.0\n",
      "Adjacent = 4.0\n",
      "Opposite = 3.0\n",
      "You know the answer!\n"
     ]
    }
   ],
   "source": [
    "#PROGRAM:\n",
    "\n",
    "def pythagoras(opposite_side,adjacent_side,hypotenuse):\n",
    "        if opposite_side == str(\"x\"):\n",
    "            return (\"Opposite = \" + str(((hypotenuse**2) - (adjacent_side**2))**0.5))\n",
    "        elif adjacent_side == str(\"x\"):\n",
    "            return (\"Adjacent = \" + str(((hypotenuse**2) - (opposite_side**2))**0.5))\n",
    "        elif hypotenuse == str(\"x\"):\n",
    "            return (\"Hypotenuse = \" + str(((opposite_side**2) + (adjacent_side**2))**0.5))\n",
    "        else:\n",
    "            return \"You know the answer!\"\n",
    "    \n",
    "print(pythagoras(3,4,'x'))\n",
    "print(pythagoras(3,'x',5))\n",
    "print(pythagoras('x',4,5))\n",
    "print(pythagoras(3,4,5))"
   ]
  },
  {
   "cell_type": "markdown",
   "metadata": {},
   "source": [
    "# 15. Write a python program to print the frequency of each of the characters present in a given string."
   ]
  },
  {
   "cell_type": "code",
   "execution_count": 19,
   "metadata": {},
   "outputs": [
    {
     "name": "stdout",
     "output_type": "stream",
     "text": [
      "Enter the String to find frequency: STRING THEORY\n",
      "Count of all characters Input string :\n",
      " Counter({'T': 2, 'R': 2, 'S': 1, 'I': 1, 'N': 1, 'G': 1, ' ': 1, 'H': 1, 'E': 1, 'O': 1, 'Y': 1})\n"
     ]
    }
   ],
   "source": [
    "#Program:\n",
    "\n",
    "from collections import Counter\n",
    "  \n",
    "_str_ = str(input(\"Enter the String to find frequency: \"))         # initializing string\n",
    "  \n",
    "# using collections.Counter() to get count of each element in string \n",
    "\n",
    "res = Counter(_str_)\n",
    "  \n",
    "# printing result \n",
    "\n",
    "print (\"Count of all characters Input string :\\n \"\n",
    "                                           +  str(res))"
   ]
  },
  {
   "cell_type": "code",
   "execution_count": null,
   "metadata": {},
   "outputs": [],
   "source": []
  }
 ],
 "metadata": {
  "kernelspec": {
   "display_name": "Python 3",
   "language": "python",
   "name": "python3"
  },
  "language_info": {
   "codemirror_mode": {
    "name": "ipython",
    "version": 3
   },
   "file_extension": ".py",
   "mimetype": "text/x-python",
   "name": "python",
   "nbconvert_exporter": "python",
   "pygments_lexer": "ipython3",
   "version": "3.8.5"
  }
 },
 "nbformat": 4,
 "nbformat_minor": 4
}
